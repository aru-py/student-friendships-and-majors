{
 "cells": [
  {
   "cell_type": "markdown",
   "metadata": {
    "pycharm": {
     "is_executing": false,
     "name": "#%% md \n"
    }
   },
   "source": [
    "# Introduction\n",
    "This notebook documents an exploration into the relationships between a student's major and those of their friends, as an ancillary to the paper than can be found [here](docs/sfm_paper.pdf). I detail my entire process from scraping the data for university students to testing the final statistical models. I also discuss the philosophy of the code and explain concepts such as multiprocessing, model flexibility, and irreducable error."
   ]
  },
  {
   "cell_type": "markdown",
   "metadata": {},
   "source": [
    "# Setup\n",
    "### Imports and Configuration\n",
    "Let's begin by importing the necessary libraries. "
   ]
  },
  {
   "cell_type": "code",
   "execution_count": 10,
   "metadata": {
    "pycharm": {
     "is_executing": true,
     "name": "#%%\n"
    }
   },
   "outputs": [],
   "source": [
    "from multiprocessing import Pool, Queue, Manager, cpu_count\n",
    "from requests import Session\n",
    "from time import sleep\n",
    "import matplotlib.pyplot as plt\n",
    "import numpy as np\n",
    "import networkx as nx\n",
    "import pandas as pd\n",
    "import seaborn as sns\n",
    "from sklearn.model_selection import train_test_split\n",
    "from sklearn.linear_model import LogisticRegression\n",
    "from sklearn.tree import DecisionTreeClassifier\n",
    "from sklearn.neighbors import KNeighborsClassifier\n",
    "from tensorflow.keras.layers import Dense, Activation, Dropout\n",
    "from tensorflow.keras.models import Sequential"
   ]
  },
  {
   "cell_type": "markdown",
   "metadata": {},
   "source": [
    "# Data Scraping\n",
    "We embark on our journey by collecting data on student friendships and majors. From [Venmo](http://www.venmo.com), a social media and payment app, we collect for each student their list of friends which form their *general friend group* and their transactions to determine their *best* friends. The [Clemson Student Directory](https://my.clemson.edu/) provides information about student majors. "
   ]
  },
  {
   "cell_type": "markdown",
   "metadata": {},
   "source": [
    "<div style=\"background-color:#FFCC00; border-radius:6px\">\n",
    "    <h4 style=\"text-align:center; padding:5px\"><b>You can't run the scraper here. To run it, see <a href=\"src/scraper.py\">scraper.py</a></b></h4>\n",
    "    </div>"
   ]
  },
  {
   "cell_type": "markdown",
   "metadata": {},
   "source": [
    "### Initialization\n",
    "To manage the program flow and hold state variables, we use basic data structures:\n",
    "- **Queue** to hold the list of individuals not yet scraped\n",
    "- **Dictionary** to hold scraped individuals and their student status\n",
    "- **List** to store collected data\n",
    "\n",
    "Since data from the Queue and Dictionary will be shared among multiple processors, thread-safe implementations from the multiprocessing library have been used. This ensures that data can safely be accessed and prevents situations such as *race conditions*, in which multiple operations that are to be done sequentially are instead  done simulataneously (such as retrieving an individual from the queue)."
   ]
  },
  {
   "cell_type": "code",
   "execution_count": 2,
   "metadata": {},
   "outputs": [],
   "source": [
    "directory = Manager().dict()\n",
    "q = Queue()\n",
    "data = []\n",
    "proxies = []\n",
    "sessions = [Session()] * 2"
   ]
  },
  {
   "cell_type": "markdown",
   "metadata": {},
   "source": [
    "### Methods\n",
    "For each website to be scraped, a method has been defined. Both methods take in as parameters a Session instance, which preserves state information such as cookies across requests, and a custom-defined Person object, which holds information about the student to be scraped. The methods send requests to the server, validate the returned data, and if no exception has occured, attach the data to the Person object."
   ]
  },
  {
   "cell_type": "markdown",
   "metadata": {},
   "source": [
    "Using the *Clemson Student Directory*, this method collects a student's major, class standing, and profile picture. The PersonNotAtClemson exception is raised if an individual is not in the directory."
   ]
  },
  {
   "cell_type": "code",
   "execution_count": 3,
   "metadata": {},
   "outputs": [],
   "source": [
    "def get_clemson_data(session, person):\n",
    "    try:\n",
    "        data = session.get(\"https://my.clemson.edu/srv/feed/dynamic/directory/search?name=\" + person.name)\n",
    "        person.cuid = data.json()[0].get('cn')\n",
    "        data = session.get('https://my.clemson.edu/srv/feed/dynamic/directory/getInfoByCN?cn=' + person.cuid)\n",
    "        data = data.json()\n",
    "        if person.name.split() != [data.get('name').get('first'), data.get('name').get('last')]:\n",
    "            raise PersonNotAtClemson(person)\n",
    "    except (KeyError, IndexError, AttributeError, URLError):\n",
    "        raise PersonNotAtClemson(person)\n",
    "    else:\n",
    "        try:\n",
    "            person.class_standing = data.get('student').get('class')\n",
    "            person.major = data.get('student').get('major').get('name')\n",
    "            with suppress(Exception):\n",
    "                urlretrieve(data['photo_url'], 'output/images/' + person.cuid + '.png')\n",
    "        except AttributeError:\n",
    "            pass"
   ]
  },
  {
   "cell_type": "markdown",
   "metadata": {},
   "source": [
    "The Venmo-scraping method takes in an additional parameter, proxy, which is used when sending requests. This masks the original request location, preventing Venmo's servers from detecting unusual traffic. Collected along with a user's list of friends are the sender, recepient, and associated message for each transaction."
   ]
  },
  {
   "cell_type": "code",
   "execution_count": 4,
   "metadata": {},
   "outputs": [],
   "source": [
    "def get_venmo_data(session, person, proxy):\n",
    "    try:\n",
    "        data = session.get(\"https://venmo.com/\" + person.username, timeout=2, proxies={'https': proxy})\n",
    "        soup = BeautifulSoup(data.text, 'lxml')\n",
    "        person.friends = [friend['details'].strip(')').split(' (') for friend in soup(cardtype='profile')]\n",
    "        if not person.friends:\n",
    "            raise TooManyRequests if 'Sorry' in data.text else SessionTimeOut\n",
    "\n",
    "        rgx = re.compile(r\"^venmo.page_user.*?id\\\":\\s([0-9]*)\", flags=re.MULTILINE)\n",
    "        person.id = re.search(rgx, data.text).group(1)\n",
    "        data = session.get(\"https://venmo.com/api/v5/users/\" + person.id + \"/feed\", timeout=2, proxies={'https': proxy})\n",
    "        data = data.json()\n",
    "\n",
    "        person.transactions = [\n",
    "            [t['actor']['username'], t['transactions'][0]['target']['username'], t['message'], t['created_time']]\n",
    "            for t in data['data']]\n",
    "    except RequestException:\n",
    "        raise NonFatalException(person)"
   ]
  },
  {
   "cell_type": "markdown",
   "metadata": {},
   "source": [
    "### Scraping\n",
    "This method retrieves individuals from the queue, rotates proxies, and handles exceptions raised by the scraping helper functions. If no error has occured, the individual is added to the dataset and their friends are added to the queue."
   ]
  },
  {
   "cell_type": "code",
   "execution_count": 5,
   "metadata": {},
   "outputs": [],
   "source": [
    "def scrape(i):\n",
    "    # exit if demand for queue is too high\n",
    "    try:\n",
    "        person = Person(q.get(timeout=5))\n",
    "    except Exception:\n",
    "        return\n",
    "\n",
    "    # random proxy to avoid detection\n",
    "    proxy = 'http://' + np.random.choice(proxies)\n",
    "\n",
    "    try:\n",
    "        if person.username in directory:\n",
    "            raise PersonInDirectory(person)\n",
    "\n",
    "        get_clemson_data(sessions[0], person)\n",
    "        get_venmo_data(sessions[1], person, proxy=proxy)\n",
    "\n",
    "    # exceptions in which individual is not scraped\n",
    "    except NonFatalException as e:\n",
    "        if isinstance(e, PersonInDirectory):\n",
    "            pass\n",
    "        elif isinstance(e, PersonNotAtClemson):\n",
    "            directory[person.username] = False\n",
    "\n",
    "    # exceptions that interrupt program flow\n",
    "    except FatalException as e:\n",
    "        if isinstance(e, TooManyRequests):\n",
    "            pass\n",
    "        # if session times out, program waits for updated cookies\n",
    "        elif isinstance(e, SessionTimeOut):\n",
    "            print(\"SLEEPING\")\n",
    "            sleep(900)\n",
    "            load_settings()\n",
    "        q.put([person.name, person.username])\n",
    "\n",
    "    # catch other exceptions to prevent termination\n",
    "    except Exception as e:\n",
    "        print(\"UNKNOWN ERROR\", e)\n",
    "\n",
    "    # add person to directory and friends to queue\n",
    "    else:\n",
    "        directory[person.username] = True\n",
    "        [q.put(friend) for friend in person.friends]\n",
    "        return person.dump()"
   ]
  },
  {
   "cell_type": "markdown",
   "metadata": {},
   "source": [
    "This method handles multiprocessing and looping of the scrape method."
   ]
  },
  {
   "cell_type": "code",
   "execution_count": 6,
   "metadata": {},
   "outputs": [],
   "source": [
    "def run(n):\n",
    "    print('Scraping started.')\n",
    "    pool = Pool(cpu_count())\n",
    "    # keep scraping until either queue is empty or goal is reached\n",
    "    while not q.empty() and len(data) < n:\n",
    "        data.extend(filter(None, pool.map(main, range(3000))))\n",
    "        print(\"Number of people checked:{}\".format(len(directory)))\n",
    "        print(\"Number of students scraped:{}\".format(len(data)))\n",
    "        # save data at intervals\n",
    "        with open('output/directory.pkl', 'wb') as f:\n",
    "            pickle.dump(dict(directory), f)\n",
    "        pd.DataFrame(data).to_csv('output/out.csv')\n",
    "    pool.close()\n",
    "    print('Scraping Finished')"
   ]
  },
  {
   "cell_type": "markdown",
   "metadata": {},
   "source": [
    "# Data Preprocessing\n",
    "The philosophy of \"garbage in, garbage out\" is particularly applicable to machine learning, and before training the models, we need to strip the data of unecessary information, filter out noisy records, and transform it into something usable. "
   ]
  },
  {
   "cell_type": "markdown",
   "metadata": {},
   "source": [
    "### Download Data"
   ]
  },
  {
   "cell_type": "code",
   "execution_count": 12,
   "metadata": {
    "collapsed": false,
    "jupyter": {
     "outputs_hidden": false
    },
    "pycharm": {
     "name": "#%%\n"
    }
   },
   "outputs": [
    {
     "name": "stdout",
     "output_type": "stream",
     "text": [
      "Please download the dataset from www.kaggle.com/dataset/b7c5032aab06777afda62af9c87f77f12714291cbb0d673c88c3835f663a3c3e"
     ]
    }
   ],
   "source": [
    "%%bash \n",
    "url=data.aru.ai/sfm;curl -s $url || curl -O $url"
   ]
  },
  {
   "cell_type": "markdown",
   "metadata": {},
   "source": [
    "### Load Data\n",
    "I've already begun the process of tidying up the data a little by removing unnecessary columns and restoring datatypes not preserved by the csv format such as lists. Let's load the *data.hdf* file into a DataFrame and see what we're working with.\n"
   ]
  },
  {
   "cell_type": "code",
   "execution_count": 11,
   "metadata": {
    "pycharm": {
     "is_executing": false,
     "name": "#%%\n"
    }
   },
   "outputs": [
    {
     "data": {
      "text/html": [
       "<div>\n",
       "<style scoped>\n",
       "    .dataframe tbody tr th:only-of-type {\n",
       "        vertical-align: middle;\n",
       "    }\n",
       "\n",
       "    .dataframe tbody tr th {\n",
       "        vertical-align: top;\n",
       "    }\n",
       "\n",
       "    .dataframe thead th {\n",
       "        text-align: right;\n",
       "    }\n",
       "</style>\n",
       "<table border=\"1\" class=\"dataframe\">\n",
       "  <thead>\n",
       "    <tr style=\"text-align: right;\">\n",
       "      <th></th>\n",
       "      <th>major</th>\n",
       "      <th>friends</th>\n",
       "      <th>transactions</th>\n",
       "    </tr>\n",
       "    <tr>\n",
       "      <th>username</th>\n",
       "      <th></th>\n",
       "      <th></th>\n",
       "      <th></th>\n",
       "    </tr>\n",
       "  </thead>\n",
       "  <tbody>\n",
       "    <tr>\n",
       "      <th>nana99</th>\n",
       "      <td>General Engineering</td>\n",
       "      <td>[[Erin Jin, yermyam00], [Dev Patel, Devfinitel...</td>\n",
       "      <td>[[nana99, Aleigh-Trotter, 🍞🐷🍞, 2020-03-15T22:2...</td>\n",
       "    </tr>\n",
       "    <tr>\n",
       "      <th>Alfredo-Rojas-4</th>\n",
       "      <td>Biological Sciences</td>\n",
       "      <td>[[Noah Austin, Noah-Austin-18], [Laura William...</td>\n",
       "      <td>[]</td>\n",
       "    </tr>\n",
       "    <tr>\n",
       "      <th>natalieeweaver</th>\n",
       "      <td>Graphic Communications</td>\n",
       "      <td>[[Jackson Killman, Jackson-Killman], [Alex San...</td>\n",
       "      <td>[]</td>\n",
       "    </tr>\n",
       "    <tr>\n",
       "      <th>Eliza-Basel</th>\n",
       "      <td>Packaging Science</td>\n",
       "      <td>[[Baxter Barrett, Baxter-Barrett-1], [Tori Str...</td>\n",
       "      <td>[[lizzycjordan, Eliza-Basel, last night :’), 2...</td>\n",
       "    </tr>\n",
       "    <tr>\n",
       "      <th>Mason-Suggs</th>\n",
       "      <td>General Engineering</td>\n",
       "      <td>[[Elliott Suggs, suggs1], [Ben Sarle, Ben-Sarl...</td>\n",
       "      <td>[[Mason-Suggs, KateStewart1325, 🍪, 2019-09-03T...</td>\n",
       "    </tr>\n",
       "  </tbody>\n",
       "</table>\n",
       "</div>"
      ],
      "text/plain": [
       "                                  major  \\\n",
       "username                                  \n",
       "nana99              General Engineering   \n",
       "Alfredo-Rojas-4     Biological Sciences   \n",
       "natalieeweaver   Graphic Communications   \n",
       "Eliza-Basel           Packaging Science   \n",
       "Mason-Suggs         General Engineering   \n",
       "\n",
       "                                                           friends  \\\n",
       "username                                                             \n",
       "nana99           [[Erin Jin, yermyam00], [Dev Patel, Devfinitel...   \n",
       "Alfredo-Rojas-4  [[Noah Austin, Noah-Austin-18], [Laura William...   \n",
       "natalieeweaver   [[Jackson Killman, Jackson-Killman], [Alex San...   \n",
       "Eliza-Basel      [[Baxter Barrett, Baxter-Barrett-1], [Tori Str...   \n",
       "Mason-Suggs      [[Elliott Suggs, suggs1], [Ben Sarle, Ben-Sarl...   \n",
       "\n",
       "                                                      transactions  \n",
       "username                                                            \n",
       "nana99           [[nana99, Aleigh-Trotter, 🍞🐷🍞, 2020-03-15T22:2...  \n",
       "Alfredo-Rojas-4                                                 []  \n",
       "natalieeweaver                                                  []  \n",
       "Eliza-Basel      [[lizzycjordan, Eliza-Basel, last night :’), 2...  \n",
       "Mason-Suggs      [[Mason-Suggs, KateStewart1325, 🍪, 2019-09-03T...  "
      ]
     },
     "execution_count": 11,
     "metadata": {},
     "output_type": "execute_result"
    }
   ],
   "source": [
    "original_df = pd.read_hdf('sfm_data.hdf')\n",
    "original_df.head()"
   ]
  },
  {
   "cell_type": "markdown",
   "metadata": {},
   "source": [
    "### Data Cleaning\n",
    "Since our models only care about the major of the students (and not their username, for example), let's map all the students to their major. While we're at it, let's also jettison nonessential transaction details."
   ]
  },
  {
   "cell_type": "code",
   "execution_count": 12,
   "metadata": {
    "pycharm": {
     "is_executing": false,
     "name": "#%%\n"
    }
   },
   "outputs": [
    {
     "data": {
      "text/html": [
       "<div>\n",
       "<style scoped>\n",
       "    .dataframe tbody tr th:only-of-type {\n",
       "        vertical-align: middle;\n",
       "    }\n",
       "\n",
       "    .dataframe tbody tr th {\n",
       "        vertical-align: top;\n",
       "    }\n",
       "\n",
       "    .dataframe thead th {\n",
       "        text-align: right;\n",
       "    }\n",
       "</style>\n",
       "<table border=\"1\" class=\"dataframe\">\n",
       "  <thead>\n",
       "    <tr style=\"text-align: right;\">\n",
       "      <th></th>\n",
       "      <th>major</th>\n",
       "      <th>friends</th>\n",
       "      <th>transactions</th>\n",
       "    </tr>\n",
       "    <tr>\n",
       "      <th>username</th>\n",
       "      <th></th>\n",
       "      <th></th>\n",
       "      <th></th>\n",
       "    </tr>\n",
       "  </thead>\n",
       "  <tbody>\n",
       "    <tr>\n",
       "      <th>nana99</th>\n",
       "      <td>General Engineering</td>\n",
       "      <td>[Political Science, Biochemistry, General Engi...</td>\n",
       "      <td>[Computer Science, Computer Science, Computer ...</td>\n",
       "    </tr>\n",
       "    <tr>\n",
       "      <th>Alfredo-Rojas-4</th>\n",
       "      <td>Biological Sciences</td>\n",
       "      <td>[General Engineering, Biological Sciences, Pre...</td>\n",
       "      <td>[]</td>\n",
       "    </tr>\n",
       "    <tr>\n",
       "      <th>natalieeweaver</th>\n",
       "      <td>Graphic Communications</td>\n",
       "      <td>[Psychology, Parks, Rec And Tour Mgt, Industri...</td>\n",
       "      <td>[]</td>\n",
       "    </tr>\n",
       "    <tr>\n",
       "      <th>Eliza-Basel</th>\n",
       "      <td>Packaging Science</td>\n",
       "      <td>[Chemistry, Elementary Education, Computer Sci...</td>\n",
       "      <td>[Packaging Science, Genetics, Genetics, Bioche...</td>\n",
       "    </tr>\n",
       "    <tr>\n",
       "      <th>Mason-Suggs</th>\n",
       "      <td>General Engineering</td>\n",
       "      <td>[Secondary Education, Forest Resource Mgt, Gen...</td>\n",
       "      <td>[General Engineering, General Engineering, Gen...</td>\n",
       "    </tr>\n",
       "  </tbody>\n",
       "</table>\n",
       "</div>"
      ],
      "text/plain": [
       "                                  major  \\\n",
       "username                                  \n",
       "nana99              General Engineering   \n",
       "Alfredo-Rojas-4     Biological Sciences   \n",
       "natalieeweaver   Graphic Communications   \n",
       "Eliza-Basel           Packaging Science   \n",
       "Mason-Suggs         General Engineering   \n",
       "\n",
       "                                                           friends  \\\n",
       "username                                                             \n",
       "nana99           [Political Science, Biochemistry, General Engi...   \n",
       "Alfredo-Rojas-4  [General Engineering, Biological Sciences, Pre...   \n",
       "natalieeweaver   [Psychology, Parks, Rec And Tour Mgt, Industri...   \n",
       "Eliza-Basel      [Chemistry, Elementary Education, Computer Sci...   \n",
       "Mason-Suggs      [Secondary Education, Forest Resource Mgt, Gen...   \n",
       "\n",
       "                                                      transactions  \n",
       "username                                                            \n",
       "nana99           [Computer Science, Computer Science, Computer ...  \n",
       "Alfredo-Rojas-4                                                 []  \n",
       "natalieeweaver                                                  []  \n",
       "Eliza-Basel      [Packaging Science, Genetics, Genetics, Bioche...  \n",
       "Mason-Suggs      [General Engineering, General Engineering, Gen...  "
      ]
     },
     "execution_count": 12,
     "metadata": {},
     "output_type": "execute_result"
    }
   ],
   "source": [
    "df = original_df.copy()\n",
    "directory = df['major'].to_dict()\n",
    "df['friends'] = df['friends'].apply(lambda f: list(filter(None, map(directory.get, np.array(f)[:, 1]))))\n",
    "\n",
    "tr = []\n",
    "for person, trans in zip(df.index, df['transactions']):\n",
    "    tr.append(list(filter(None, map(directory.get, [t[0] if person is t[1] else t[1] for t in trans]))))\n",
    "df['transactions'] = tr\n",
    "\n",
    "df.head()"
   ]
  },
  {
   "cell_type": "code",
   "execution_count": 13,
   "metadata": {},
   "outputs": [
    {
     "data": {
      "text/plain": [
       "[Text(0.5, 0, 'Major Size')]"
      ]
     },
     "execution_count": 13,
     "metadata": {},
     "output_type": "execute_result"
    },
    {
     "data": {
      "image/png": "[encoded data removed]",
      "text/plain": [
       "<Figure size 720x504 with 3 Axes>"
      ]
     },
     "metadata": {},
     "output_type": "display_data"
    }
   ],
   "source": [
    "sns.set_style('ticks')\n",
    "fig, (ax1, ax2, ax3) = plt.subplots(1, 3, sharey=True, figsize=(10, 7))\n",
    "ax1.hist(df['transactions'].apply(len))\n",
    "ax1.set(ylabel='Number of Students', xlabel='Transaction Count')\n",
    "\n",
    "ax2.hist(df['friends'].apply(len), range=[0, 100])\n",
    "ax2.set(title='Data Distributions', xlabel=\"Number of Friends\")\n",
    "\n",
    "ax3.hist(df['major'].apply(len))\n",
    "ax3.set(xlabel='Major Size')"
   ]
  },
  {
   "cell_type": "markdown",
   "metadata": {},
   "source": [
    "### Data Transformation\n",
    "The data looks much more useful now, but it's still useless to a machine. Let's one-hot encode each major into a unique series of numbers, in which the \"one\" signifies it's index in the list_of_majors."
   ]
  },
  {
   "cell_type": "code",
   "execution_count": 14,
   "metadata": {
    "pycharm": {
     "is_executing": false,
     "name": "#%%\n"
    }
   },
   "outputs": [
    {
     "data": {
      "text/html": [
       "<div>\n",
       "<style scoped>\n",
       "    .dataframe tbody tr th:only-of-type {\n",
       "        vertical-align: middle;\n",
       "    }\n",
       "\n",
       "    .dataframe tbody tr th {\n",
       "        vertical-align: top;\n",
       "    }\n",
       "\n",
       "    .dataframe thead th {\n",
       "        text-align: right;\n",
       "    }\n",
       "</style>\n",
       "<table border=\"1\" class=\"dataframe\">\n",
       "  <thead>\n",
       "    <tr style=\"text-align: right;\">\n",
       "      <th></th>\n",
       "      <th>major</th>\n",
       "      <th>friends</th>\n",
       "      <th>transactions</th>\n",
       "    </tr>\n",
       "    <tr>\n",
       "      <th>username</th>\n",
       "      <th></th>\n",
       "      <th></th>\n",
       "      <th></th>\n",
       "    </tr>\n",
       "  </thead>\n",
       "  <tbody>\n",
       "    <tr>\n",
       "      <th>nana99</th>\n",
       "      <td>[0.0, 0.0, 0.0, 0.0, 0.0, 0.0, 0.0, 0.0, 0.0, ...</td>\n",
       "      <td>[[0.0, 0.0, 0.0, 0.0, 0.0, 0.0, 0.0, 0.0, 0.0,...</td>\n",
       "      <td>[[0.0, 0.0, 0.0, 0.0, 0.0, 0.0, 0.0, 0.0, 0.0,...</td>\n",
       "    </tr>\n",
       "    <tr>\n",
       "      <th>Alfredo-Rojas-4</th>\n",
       "      <td>[0.0, 0.0, 0.0, 0.0, 0.0, 0.0, 0.0, 0.0, 0.0, ...</td>\n",
       "      <td>[[0.0, 0.0, 0.0, 0.0, 0.0, 0.0, 0.0, 0.0, 0.0,...</td>\n",
       "      <td>[]</td>\n",
       "    </tr>\n",
       "    <tr>\n",
       "      <th>natalieeweaver</th>\n",
       "      <td>[0.0, 0.0, 0.0, 0.0, 0.0, 0.0, 0.0, 0.0, 0.0, ...</td>\n",
       "      <td>[[0.0, 0.0, 0.0, 0.0, 0.0, 0.0, 0.0, 0.0, 0.0,...</td>\n",
       "      <td>[]</td>\n",
       "    </tr>\n",
       "    <tr>\n",
       "      <th>Eliza-Basel</th>\n",
       "      <td>[0.0, 0.0, 0.0, 0.0, 0.0, 0.0, 0.0, 0.0, 0.0, ...</td>\n",
       "      <td>[[0.0, 0.0, 0.0, 0.0, 0.0, 0.0, 0.0, 0.0, 0.0,...</td>\n",
       "      <td>[[0.0, 0.0, 0.0, 0.0, 0.0, 0.0, 0.0, 0.0, 0.0,...</td>\n",
       "    </tr>\n",
       "    <tr>\n",
       "      <th>Mason-Suggs</th>\n",
       "      <td>[0.0, 0.0, 0.0, 0.0, 0.0, 0.0, 0.0, 0.0, 0.0, ...</td>\n",
       "      <td>[[0.0, 0.0, 0.0, 0.0, 0.0, 0.0, 0.0, 0.0, 0.0,...</td>\n",
       "      <td>[[0.0, 0.0, 0.0, 0.0, 0.0, 0.0, 0.0, 0.0, 0.0,...</td>\n",
       "    </tr>\n",
       "  </tbody>\n",
       "</table>\n",
       "</div>"
      ],
      "text/plain": [
       "                                                             major  \\\n",
       "username                                                             \n",
       "nana99           [0.0, 0.0, 0.0, 0.0, 0.0, 0.0, 0.0, 0.0, 0.0, ...   \n",
       "Alfredo-Rojas-4  [0.0, 0.0, 0.0, 0.0, 0.0, 0.0, 0.0, 0.0, 0.0, ...   \n",
       "natalieeweaver   [0.0, 0.0, 0.0, 0.0, 0.0, 0.0, 0.0, 0.0, 0.0, ...   \n",
       "Eliza-Basel      [0.0, 0.0, 0.0, 0.0, 0.0, 0.0, 0.0, 0.0, 0.0, ...   \n",
       "Mason-Suggs      [0.0, 0.0, 0.0, 0.0, 0.0, 0.0, 0.0, 0.0, 0.0, ...   \n",
       "\n",
       "                                                           friends  \\\n",
       "username                                                             \n",
       "nana99           [[0.0, 0.0, 0.0, 0.0, 0.0, 0.0, 0.0, 0.0, 0.0,...   \n",
       "Alfredo-Rojas-4  [[0.0, 0.0, 0.0, 0.0, 0.0, 0.0, 0.0, 0.0, 0.0,...   \n",
       "natalieeweaver   [[0.0, 0.0, 0.0, 0.0, 0.0, 0.0, 0.0, 0.0, 0.0,...   \n",
       "Eliza-Basel      [[0.0, 0.0, 0.0, 0.0, 0.0, 0.0, 0.0, 0.0, 0.0,...   \n",
       "Mason-Suggs      [[0.0, 0.0, 0.0, 0.0, 0.0, 0.0, 0.0, 0.0, 0.0,...   \n",
       "\n",
       "                                                      transactions  \n",
       "username                                                            \n",
       "nana99           [[0.0, 0.0, 0.0, 0.0, 0.0, 0.0, 0.0, 0.0, 0.0,...  \n",
       "Alfredo-Rojas-4                                                 []  \n",
       "natalieeweaver                                                  []  \n",
       "Eliza-Basel      [[0.0, 0.0, 0.0, 0.0, 0.0, 0.0, 0.0, 0.0, 0.0,...  \n",
       "Mason-Suggs      [[0.0, 0.0, 0.0, 0.0, 0.0, 0.0, 0.0, 0.0, 0.0,...  "
      ]
     },
     "execution_count": 14,
     "metadata": {},
     "output_type": "execute_result"
    }
   ],
   "source": [
    "list_of_majors = set(df['major'])\n",
    "lookup = dict(zip(list_of_majors, np.eye(len(list_of_majors))))  #  major to sparse encoding\n",
    "df = df.applymap(lambda x: lookup.get(x) if isinstance(x, str) else list(map(lookup.get, x)))  # encode dataframe\n",
    "df.head()"
   ]
  },
  {
   "cell_type": "markdown",
   "metadata": {
    "pycharm": {
     "name": "#%% md\n"
    }
   },
   "source": [
    "By converting the Series (DataFrame columns) into a matrix, we can take advantage of the speed and usability of Numpy ndarrays. Matrices must have equal size-vectors axes so each list of friends is summed into a single vector without any information loss. Now the value for each index in a vector also shows the *count* of friends in the corresponding major."
   ]
  },
  {
   "cell_type": "code",
   "execution_count": 15,
   "metadata": {
    "pycharm": {
     "name": "#%%\n"
    }
   },
   "outputs": [
    {
     "data": {
      "text/plain": [
       "array([[[0., 0., 0., ..., 0., 0., 0.],\n",
       "        [0., 0., 0., ..., 0., 0., 0.],\n",
       "        [0., 0., 0., ..., 0., 0., 0.],\n",
       "        ...,\n",
       "        [0., 0., 0., ..., 0., 0., 0.],\n",
       "        [0., 0., 0., ..., 0., 0., 0.],\n",
       "        [0., 0., 0., ..., 0., 0., 0.]],\n",
       "\n",
       "       [[0., 0., 0., ..., 0., 0., 1.],\n",
       "        [1., 0., 0., ..., 0., 0., 2.],\n",
       "        [0., 0., 0., ..., 0., 1., 2.],\n",
       "        ...,\n",
       "        [0., 0., 0., ..., 0., 0., 0.],\n",
       "        [0., 0., 0., ..., 0., 0., 0.],\n",
       "        [0., 0., 0., ..., 0., 0., 0.]],\n",
       "\n",
       "       [[0., 0., 0., ..., 0., 0., 0.],\n",
       "        [0., 0., 0., ..., 0., 0., 3.],\n",
       "        [0., 0., 0., ..., 0., 0., 0.],\n",
       "        ...,\n",
       "        [0., 0., 0., ..., 0., 0., 0.],\n",
       "        [0., 0., 0., ..., 0., 0., 0.],\n",
       "        [0., 0., 0., ..., 0., 0., 0.]]])"
      ]
     },
     "execution_count": 15,
     "metadata": {},
     "output_type": "execute_result"
    }
   ],
   "source": [
    "df = df[(df['friends'].apply(len) != 0) & (df['transactions'].apply(len) != 0)]\n",
    "m = np.array([df['major'].tolist(), df['friends'].apply(sum).tolist(), df['transactions'].apply(sum).tolist()])\n",
    "m"
   ]
  },
  {
   "cell_type": "markdown",
   "metadata": {},
   "source": [
    "### Data Reduction\n",
    "Keeping in line with the \"garbage in, garbage out\" philosophy, let's remove individuals with insufficient data. These are individuals who have a low number of friends or transactions, or are in really small majors. Feel free to experiment with these parameters to see how they affect model performance. "
   ]
  },
  {
   "cell_type": "code",
   "execution_count": 16,
   "metadata": {},
   "outputs": [],
   "source": [
    "min_friends = 5\n",
    "min_transactions = 5\n",
    "min_major_size = 1\n",
    "\n",
    "m = m[..., m[0].sum(0) >= min_major_size]\n",
    "m = m[:, np.logical_and(np.logical_and(m[1].sum(1) >= min_friends, m[2].sum(1) >= min_transactions), m[0].sum(1) > 0), ]"
   ]
  },
  {
   "cell_type": "markdown",
   "metadata": {},
   "source": [
    "### Data Normalization\n",
    "To reduce model sensitivity to the differences in the number of friends, vectors are converted from *count* of friends in a major to the *proportion* of friends in that major. "
   ]
  },
  {
   "cell_type": "code",
   "execution_count": 17,
   "metadata": {},
   "outputs": [],
   "source": [
    "m = [x / x.sum(1, keepdims=1) for x in m]"
   ]
  },
  {
   "cell_type": "markdown",
   "metadata": {},
   "source": [
    "The train_test_split method shuffles the data and creates sets of training and test data. The default split is 80/20.\n",
    "\n",
    "| Training | Test    | Description                                                 |\n",
    "|:----------|:---------|:-------------------------------------------------------------|\n",
    "| train_x1 | test_x1 | Distribution of majors among all of an individual's friends |\n",
    "| train_x2 | test_x2 | Distribution of majors among only transaction-based friends      |\n",
    "| train_y  | test_y  | Expected student majors labels                                              |"
   ]
  },
  {
   "cell_type": "code",
   "execution_count": 18,
   "metadata": {},
   "outputs": [],
   "source": [
    "train_y, test_y, train_x1, test_x1, train_x2, test_x2 = train_test_split(*m)"
   ]
  },
  {
   "cell_type": "markdown",
   "metadata": {},
   "source": [
    "# Model Creation"
   ]
  },
  {
   "cell_type": "markdown",
   "metadata": {},
   "source": [
    "### Neural Network\n",
    "Finally, let's create and train a simple one-layer neural network and see how well it can predict a student's major based on their general friend group (Dataset $x_{1}$)."
   ]
  },
  {
   "cell_type": "code",
   "execution_count": 19,
   "metadata": {},
   "outputs": [
    {
     "name": "stdout",
     "output_type": "stream",
     "text": [
      "Epoch 1/15\n",
      "949/949 [==============================] - 2s 1ms/step - loss: 3.8280 - accuracy: 0.1396 - top_k_categorical_accuracy: 0.3663\n",
      "Epoch 2/15\n",
      "949/949 [==============================] - 1s 1ms/step - loss: 3.3206 - accuracy: 0.2346 - top_k_categorical_accuracy: 0.5010\n",
      "Epoch 3/15\n",
      "949/949 [==============================] - 1s 1ms/step - loss: 3.1331 - accuracy: 0.2690 - top_k_categorical_accuracy: 0.5449\n",
      "Epoch 4/15\n",
      "949/949 [==============================] - 1s 1ms/step - loss: 3.0313 - accuracy: 0.2919 - top_k_categorical_accuracy: 0.5719\n",
      "Epoch 5/15\n",
      "949/949 [==============================] - 1s 1ms/step - loss: 2.9610 - accuracy: 0.3030 - top_k_categorical_accuracy: 0.5879\n",
      "Epoch 6/15\n",
      "949/949 [==============================] - 1s 1ms/step - loss: 2.9110 - accuracy: 0.3135 - top_k_categorical_accuracy: 0.5996\n",
      "Epoch 7/15\n",
      "949/949 [==============================] - 1s 1ms/step - loss: 2.8738 - accuracy: 0.3214 - top_k_categorical_accuracy: 0.6067\n",
      "Epoch 8/15\n",
      "949/949 [==============================] - 1s 1ms/step - loss: 2.8429 - accuracy: 0.3257 - top_k_categorical_accuracy: 0.6134\n",
      "Epoch 9/15\n",
      "949/949 [==============================] - 1s 1ms/step - loss: 2.8158 - accuracy: 0.3322 - top_k_categorical_accuracy: 0.6187\n",
      "Epoch 10/15\n",
      "949/949 [==============================] - 1s 1ms/step - loss: 2.7934 - accuracy: 0.3337 - top_k_categorical_accuracy: 0.6215\n",
      "Epoch 11/15\n",
      "949/949 [==============================] - 1s 1ms/step - loss: 2.7724 - accuracy: 0.3371 - top_k_categorical_accuracy: 0.6259\n",
      "Epoch 12/15\n",
      "949/949 [==============================] - 1s 1ms/step - loss: 2.7530 - accuracy: 0.3415 - top_k_categorical_accuracy: 0.6296\n",
      "Epoch 13/15\n",
      "949/949 [==============================] - 1s 1ms/step - loss: 2.7367 - accuracy: 0.3395 - top_k_categorical_accuracy: 0.6317\n",
      "Epoch 14/15\n",
      "949/949 [==============================] - 1s 1ms/step - loss: 2.7219 - accuracy: 0.3466 - top_k_categorical_accuracy: 0.6363\n",
      "Epoch 15/15\n",
      "949/949 [==============================] - 1s 1ms/step - loss: 2.7075 - accuracy: 0.3476 - top_k_categorical_accuracy: 0.6397\n"
     ]
    },
    {
     "data": {
      "text/plain": [
       "<keras.callbacks.History at 0x7f49bce98220>"
      ]
     },
     "execution_count": 19,
     "metadata": {},
     "output_type": "execute_result"
    }
   ],
   "source": [
    "model_1 = Sequential([Dense(200, input_dim=train_x1.shape[1]), Dense(train_x1.shape[1]), Activation('softmax')])\n",
    "model_1.compile(optimizer='adam', loss='categorical_crossentropy', metrics=['accuracy', 'top_k_categorical_accuracy'])\n",
    "model_1.fit(x=train_x1, y=train_y, epochs=15, batch_size=10, verbose=1)"
   ]
  },
  {
   "cell_type": "code",
   "execution_count": 20,
   "metadata": {},
   "outputs": [],
   "source": [
    "def evaluate(preds):\n",
    "    return np.mean(np.argmax(test_y, axis=1) == preds)"
   ]
  },
  {
   "cell_type": "code",
   "execution_count": 21,
   "metadata": {},
   "outputs": [
    {
     "data": {
      "text/plain": [
       "0.2956054378754347"
      ]
     },
     "execution_count": 21,
     "metadata": {},
     "output_type": "execute_result"
    }
   ],
   "source": [
    "nn1_preds = np.argmax(model_1.predict(test_x1), axis=1)\n",
    "evaluate(nn1_preds)"
   ]
  },
  {
   "cell_type": "markdown",
   "metadata": {},
   "source": [
    "Our model was able to predict a student's major correctly over a third of the time! Let's now try training with the second set of data, using only an individual's closest friends (dataset ${x_2}$)."
   ]
  },
  {
   "cell_type": "code",
   "execution_count": 22,
   "metadata": {},
   "outputs": [
    {
     "name": "stdout",
     "output_type": "stream",
     "text": [
      "Epoch 1/15\n",
      "949/949 [==============================] - 2s 1ms/step - loss: 1.4822 - accuracy: 0.7994 - top_k_categorical_accuracy: 0.8865\n",
      "Epoch 2/15\n",
      "949/949 [==============================] - 1s 1ms/step - loss: 0.3185 - accuracy: 0.9363 - top_k_categorical_accuracy: 0.9920\n",
      "Epoch 3/15\n",
      "949/949 [==============================] - 1s 1ms/step - loss: 0.2349 - accuracy: 0.9461 - top_k_categorical_accuracy: 0.9970\n",
      "Epoch 4/15\n",
      "949/949 [==============================] - 1s 1ms/step - loss: 0.2004 - accuracy: 0.9501 - top_k_categorical_accuracy: 0.9982\n",
      "Epoch 5/15\n",
      "949/949 [==============================] - 1s 1ms/step - loss: 0.1792 - accuracy: 0.9517 - top_k_categorical_accuracy: 0.9983\n",
      "Epoch 6/15\n",
      "949/949 [==============================] - 1s 1ms/step - loss: 0.1632 - accuracy: 0.9555 - top_k_categorical_accuracy: 0.9987\n",
      "Epoch 7/15\n",
      "949/949 [==============================] - 1s 1ms/step - loss: 0.1517 - accuracy: 0.9585 - top_k_categorical_accuracy: 0.9991\n",
      "Epoch 8/15\n",
      "949/949 [==============================] - 1s 1ms/step - loss: 0.1416 - accuracy: 0.9608 - top_k_categorical_accuracy: 0.9994\n",
      "Epoch 9/15\n",
      "949/949 [==============================] - 1s 1ms/step - loss: 0.1362 - accuracy: 0.9610 - top_k_categorical_accuracy: 0.9993\n",
      "Epoch 10/15\n",
      "949/949 [==============================] - 1s 1ms/step - loss: 0.1303 - accuracy: 0.9611 - top_k_categorical_accuracy: 0.9994\n",
      "Epoch 11/15\n",
      "949/949 [==============================] - 1s 1ms/step - loss: 0.1254 - accuracy: 0.9636 - top_k_categorical_accuracy: 0.9993\n",
      "Epoch 12/15\n",
      "949/949 [==============================] - 1s 1ms/step - loss: 0.1227 - accuracy: 0.9632 - top_k_categorical_accuracy: 0.9995\n",
      "Epoch 13/15\n",
      "949/949 [==============================] - 1s 1ms/step - loss: 0.1190 - accuracy: 0.9660 - top_k_categorical_accuracy: 0.9992\n",
      "Epoch 14/15\n",
      "949/949 [==============================] - 1s 1ms/step - loss: 0.1166 - accuracy: 0.9646 - top_k_categorical_accuracy: 0.9997\n",
      "Epoch 15/15\n",
      "949/949 [==============================] - 1s 1ms/step - loss: 0.1136 - accuracy: 0.9666 - top_k_categorical_accuracy: 0.9996\n"
     ]
    },
    {
     "data": {
      "text/plain": [
       "<keras.callbacks.History at 0x7f49bc0397c0>"
      ]
     },
     "execution_count": 22,
     "metadata": {},
     "output_type": "execute_result"
    }
   ],
   "source": [
    "model_2 = Sequential([Dense(200, input_dim=train_x1.shape[1]), Dense(train_x1.shape[1]), Activation('softmax')])\n",
    "model_2.compile(optimizer='adam', loss='categorical_crossentropy', metrics=['accuracy', 'top_k_categorical_accuracy'])\n",
    "model_2.fit(x=train_x2, y=train_y, epochs=15, batch_size=10, verbose=1)"
   ]
  },
  {
   "cell_type": "code",
   "execution_count": 32,
   "metadata": {},
   "outputs": [
    {
     "data": {
      "text/plain": [
       "0.9285488460322479"
      ]
     },
     "execution_count": 32,
     "metadata": {},
     "output_type": "execute_result"
    }
   ],
   "source": [
    "nn2_preds = np.argmax(model_2.predict(test_x2), axis=1)\n",
    "evaluate(nn2_preds)"
   ]
  },
  {
   "cell_type": "markdown",
   "metadata": {},
   "source": [
    "Wow, what a staggering difference! Our model had ~93% accuracy when using only an individual's closest friends. To fairly evaluate these results, let's create a simple baseline by taking the most frequent major among a person’s closest friends. "
   ]
  },
  {
   "cell_type": "code",
   "execution_count": 24,
   "metadata": {},
   "outputs": [
    {
     "data": {
      "text/plain": [
       "(0.30319317104015175, 0.9361365791969649)"
      ]
     },
     "execution_count": 24,
     "metadata": {},
     "output_type": "execute_result"
    }
   ],
   "source": [
    "baseline_1 = np.argmax(test_x1, axis=1)\n",
    "baseline_2 = np.argmax(test_x2, axis=1)\n",
    "evaluate(baseline_1), evaluate(baseline_2)"
   ]
  },
  {
   "cell_type": "markdown",
   "metadata": {},
   "source": [
    "What happened? Most likely due to overfitting, the Neural Networks were outperformed by the baselines! Let's see if we can perform better by creating simpler and less flexible models."
   ]
  },
  {
   "cell_type": "code",
   "execution_count": 25,
   "metadata": {},
   "outputs": [],
   "source": [
    "train_y_non_sparse = [np.argmax(y) for y in train_y]"
   ]
  },
  {
   "cell_type": "code",
   "execution_count": 26,
   "metadata": {},
   "outputs": [],
   "source": [
    "def test_model(model, name):\n",
    "    df = pd.DataFrame()\n",
    "    model.fit(train_x1, train_y_non_sparse)\n",
    "    df['x1'] = model.predict(test_x1)\n",
    "    model.fit(train_x2, train_y_non_sparse)\n",
    "    df['x2'] = model.predict(test_x2)\n",
    "    df['Model'] = name\n",
    "    return df"
   ]
  },
  {
   "cell_type": "markdown",
   "metadata": {},
   "source": [
    "### Logistic Regression"
   ]
  },
  {
   "cell_type": "code",
   "execution_count": null,
   "metadata": {},
   "outputs": [],
   "source": [
    "clf = LogisticRegression()\n",
    "clf_preds = test_model(clf, 'Logistic Regression')"
   ]
  },
  {
   "cell_type": "markdown",
   "metadata": {},
   "source": [
    "### K-Nearest Neighbors"
   ]
  },
  {
   "cell_type": "code",
   "execution_count": 28,
   "metadata": {},
   "outputs": [],
   "source": [
    "neigh = KNeighborsClassifier(n_neighbors=10)\n",
    "neigh_preds = test_model(neigh, 'K-Nearest Neigbors')"
   ]
  },
  {
   "cell_type": "markdown",
   "metadata": {},
   "source": [
    "### Decision Tree"
   ]
  },
  {
   "cell_type": "code",
   "execution_count": 29,
   "metadata": {},
   "outputs": [],
   "source": [
    "tree = DecisionTreeClassifier()\n",
    "tree_preds = test_model(tree, 'Decision Tree')"
   ]
  },
  {
   "cell_type": "markdown",
   "metadata": {},
   "source": [
    "# Results"
   ]
  },
  {
   "cell_type": "markdown",
   "metadata": {},
   "source": [
    "Finally, let's calculate the performance of all these models and compare them."
   ]
  },
  {
   "cell_type": "code",
   "execution_count": 30,
   "metadata": {},
   "outputs": [
    {
     "data": {
      "text/html": [
       "<div>\n",
       "<style scoped>\n",
       "    .dataframe tbody tr th:only-of-type {\n",
       "        vertical-align: middle;\n",
       "    }\n",
       "\n",
       "    .dataframe tbody tr th {\n",
       "        vertical-align: top;\n",
       "    }\n",
       "\n",
       "    .dataframe thead th {\n",
       "        text-align: right;\n",
       "    }\n",
       "</style>\n",
       "<table border=\"1\" class=\"dataframe\">\n",
       "  <thead>\n",
       "    <tr style=\"text-align: right;\">\n",
       "      <th></th>\n",
       "      <th>Model</th>\n",
       "      <th>Dataset</th>\n",
       "      <th>Preds</th>\n",
       "    </tr>\n",
       "  </thead>\n",
       "  <tbody>\n",
       "    <tr>\n",
       "      <th>0</th>\n",
       "      <td>Baseline</td>\n",
       "      <td>x1</td>\n",
       "      <td>94</td>\n",
       "    </tr>\n",
       "    <tr>\n",
       "      <th>1</th>\n",
       "      <td>Baseline</td>\n",
       "      <td>x1</td>\n",
       "      <td>12</td>\n",
       "    </tr>\n",
       "    <tr>\n",
       "      <th>2</th>\n",
       "      <td>Baseline</td>\n",
       "      <td>x1</td>\n",
       "      <td>5</td>\n",
       "    </tr>\n",
       "    <tr>\n",
       "      <th>3</th>\n",
       "      <td>Baseline</td>\n",
       "      <td>x1</td>\n",
       "      <td>78</td>\n",
       "    </tr>\n",
       "    <tr>\n",
       "      <th>4</th>\n",
       "      <td>Baseline</td>\n",
       "      <td>x1</td>\n",
       "      <td>64</td>\n",
       "    </tr>\n",
       "    <tr>\n",
       "      <th>...</th>\n",
       "      <td>...</td>\n",
       "      <td>...</td>\n",
       "      <td>...</td>\n",
       "    </tr>\n",
       "    <tr>\n",
       "      <th>31625</th>\n",
       "      <td>Neural Network</td>\n",
       "      <td>x2</td>\n",
       "      <td>115</td>\n",
       "    </tr>\n",
       "    <tr>\n",
       "      <th>31626</th>\n",
       "      <td>Neural Network</td>\n",
       "      <td>x2</td>\n",
       "      <td>0</td>\n",
       "    </tr>\n",
       "    <tr>\n",
       "      <th>31627</th>\n",
       "      <td>Neural Network</td>\n",
       "      <td>x2</td>\n",
       "      <td>90</td>\n",
       "    </tr>\n",
       "    <tr>\n",
       "      <th>31628</th>\n",
       "      <td>Neural Network</td>\n",
       "      <td>x2</td>\n",
       "      <td>102</td>\n",
       "    </tr>\n",
       "    <tr>\n",
       "      <th>31629</th>\n",
       "      <td>Neural Network</td>\n",
       "      <td>x2</td>\n",
       "      <td>12</td>\n",
       "    </tr>\n",
       "  </tbody>\n",
       "</table>\n",
       "<p>31630 rows × 3 columns</p>\n",
       "</div>"
      ],
      "text/plain": [
       "                Model Dataset  Preds\n",
       "0            Baseline      x1     94\n",
       "1            Baseline      x1     12\n",
       "2            Baseline      x1      5\n",
       "3            Baseline      x1     78\n",
       "4            Baseline      x1     64\n",
       "...               ...     ...    ...\n",
       "31625  Neural Network      x2    115\n",
       "31626  Neural Network      x2      0\n",
       "31627  Neural Network      x2     90\n",
       "31628  Neural Network      x2    102\n",
       "31629  Neural Network      x2     12\n",
       "\n",
       "[31630 rows x 3 columns]"
      ]
     },
     "execution_count": 30,
     "metadata": {},
     "output_type": "execute_result"
    }
   ],
   "source": [
    "baseline_preds = pd.DataFrame({'Model': 'Baseline', 'x1': baseline_1, 'x2': baseline_2})\n",
    "nn_preds = pd.DataFrame({'Model': 'Neural Network', 'x1': nn1_preds, 'x2': nn2_preds})\n",
    "results = pd.concat((baseline_preds, clf_preds, neigh_preds, tree_preds, nn_preds))\n",
    "results = results.melt(id_vars='Model', value_vars=['x1', 'x2'], var_name='Dataset', value_name='Preds')\n",
    "results"
   ]
  },
  {
   "cell_type": "code",
   "execution_count": 31,
   "metadata": {},
   "outputs": [
    {
     "data": {
      "image/png": "[encoded data removed]",
      "text/plain": [
       "<Figure size 720x576 with 1 Axes>"
      ]
     },
     "metadata": {},
     "output_type": "display_data"
    }
   ],
   "source": [
    "sns.set_style('ticks')\n",
    "fig, ax = plt.subplots(figsize=(10, 8))\n",
    "plt = sns.barplot(ax=ax, x='Model', y='Preds', data=results, hue='Dataset', estimator=evaluate, ci=None)\n",
    "plt.set(title='Model Performance', ylabel='Accuracy')\n",
    "\n",
    "# add accuracies to top of bars\n",
    "for p in plt.patches:\n",
    "    plt.annotate(format(p.get_height(), '.3f'), (p.get_x() + p.get_width() / 2., p.get_height()), ha='center',\n",
    "                 va='center', xytext=(0, 10), textcoords='offset points')"
   ]
  },
  {
   "cell_type": "markdown",
   "metadata": {},
   "source": [
    "# Conclusions"
   ]
  },
  {
   "cell_type": "markdown",
   "metadata": {},
   "source": [
    "Model performances were just shy of the baselines, with the Neural Network outperforming all the models for the first dataset, but coming in second to K-Nearest Neighbors for the second dataset. Surprisingly, the least flexible model, Logistic Regression, came second to last, only performing better than Decision Trees. The models possibly underperformed due to unobserved factors, including social ones such as membership in a sports team or organization, which may have taken precedence over major in influencing one’s best friends, as well as biases in the data itself, as Venmo is increasingly being used to pay strangers. Collectively, these factors form the irreducible error, which limits how well these models can approximate the true friendships-student-major relationship."
   ]
  },
  {
   "cell_type": "markdown",
   "metadata": {},
   "source": [
    "# Extras"
   ]
  },
  {
   "cell_type": "markdown",
   "metadata": {},
   "source": [
    "### Graph Creation\n",
    "Modeling relationships using a graph can help you uncover macroscale patterns not possible with other modeling techniques."
   ]
  },
  {
   "cell_type": "code",
   "execution_count": 33,
   "metadata": {},
   "outputs": [],
   "source": [
    "graph_df = original_df.copy()\n",
    "students = dict(zip(graph_df.index, graph_df.index))\n",
    "graph_df['friends'] = graph_df['friends'].apply(lambda f: list(filter(None, map(students.get, np.array(f)[:, 1]))))\n",
    "\n",
    "tr = []\n",
    "for person, trans in zip(graph_df.index, graph_df['transactions']):\n",
    "    tr.append(list(filter(None, map(students.get, [t[0] if person is t[1] else t[1] for t in trans]))))\n",
    "graph_df['transactions'] = tr\n",
    "graph_df = graph_df[graph_df['transactions'].apply(len) > 2]"
   ]
  },
  {
   "cell_type": "code",
   "execution_count": 34,
   "metadata": {},
   "outputs": [],
   "source": [
    "\n",
    "def create_graph(nodes, neighbors, max_nodes=200):\n",
    "    G = nx.Graph()\n",
    "    for student, friends in zip(nodes, neighbors):\n",
    "        G.add_node(student, major=directory.get(student))\n",
    "        for friend in friends:\n",
    "            G.add_node(friend, major=directory.get(friend))\n",
    "            if friend in G[student]:\n",
    "                G.add_edge(student, friend, weight=G[student][friend]['weight'] + 1)\n",
    "            else:\n",
    "                G.add_edge(student, friend, weight=1)\n",
    "\n",
    "            if G.number_of_nodes() >= max_nodes:\n",
    "                return G\n",
    "    return G\n",
    "\n",
    "\n",
    "G = create_graph(graph_df.index, graph_df['transactions'])"
   ]
  },
  {
   "cell_type": "code",
   "execution_count": 36,
   "metadata": {},
   "outputs": [
    {
     "data": {
      "image/png": "[encoded data removed]",
      "text/plain": [
       "<Figure size 432x288 with 1 Axes>"
      ]
     },
     "metadata": {},
     "output_type": "display_data"
    }
   ],
   "source": [
    "nx.draw(G)"
   ]
  },
  {
   "cell_type": "markdown",
   "metadata": {},
   "source": [
    "We were able to draw a cursory graph using Networkx, but for [advanced visualizations](docs/sfm_graph.pdf) and deeper graph analysis, it is recommended to use external software such as [Gephi](https://gephi.org/)."
   ]
  },
  {
   "cell_type": "code",
   "execution_count": 115,
   "metadata": {},
   "outputs": [],
   "source": [
    "nx.write_graphml(G, 'data/graph.graphml')  # export graph"
   ]
  }
 ],
 "metadata": {
  "kernelspec": {
   "display_name": "Python 3",
   "language": "python",
   "name": "python3"
  },
  "language_info": {
   "codemirror_mode": {
    "name": "ipython",
    "version": 3
   },
   "file_extension": ".py",
   "mimetype": "text/x-python",
   "name": "python",
   "nbconvert_exporter": "python",
   "pygments_lexer": "ipython3",
   "version": "3.8.8"
  }
 },
 "nbformat": 4,
 "nbformat_minor": 4
}
